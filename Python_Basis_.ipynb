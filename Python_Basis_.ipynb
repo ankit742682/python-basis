{
  "nbformat": 4,
  "nbformat_minor": 0,
  "metadata": {
    "colab": {
      "provenance": []
    },
    "kernelspec": {
      "name": "python3",
      "display_name": "Python 3"
    },
    "language_info": {
      "name": "python"
    }
  },
  "cells": [
    {
      "cell_type": "code",
      "execution_count": null,
      "metadata": {
        "id": "8OAYUmTueRDS"
      },
      "outputs": [],
      "source": []
    },
    {
      "cell_type": "markdown",
      "source": [
        "# Python Basis"
      ],
      "metadata": {
        "id": "3lQupOiZeuXp"
      }
    },
    {
      "cell_type": "markdown",
      "source": [
        "1.  What is Python, and why is it popular?\n",
        "     - python is high level interpreted programming language and easy to understand.\n",
        "2.  What is an interpreter in Python?\n",
        "     - The interpreter reads print(\"hello,world\").  \n",
        "3.  What are pre-defined keywords in Python?\n",
        "     - Keyword in python are reserved words that have there special meaning\n",
        "      in python.\n",
        "4.  Can keywords be used as variable names?\n",
        "      - No, keyword used as variable.\n",
        "5.  What is mutability in Python?\n",
        "      - Mutability is refers an object can be changed after it is created.\n",
        "6.   Why are lists mutable, but tuples are immutable?\n",
        "      - Lists are designed to be fiexible and dynamic.\n",
        "7.   What is the difference between “==” and “is” operators in Python?\n",
        "      - \"==\" is equality operator.\n",
        "        \"is\" is identity operator.\n",
        "8.   What are logical operators in Python?\n",
        "      - Logical operators are used to combine condition statements like\n",
        "         (and,or,while etc.).\n",
        "9.   What is type casting in Python?\n",
        "      - Casting is converting one data type into another.\n",
        "10.  What is the difference between implicit and explicit type\n",
        "      casting?\n",
        "      - Implicit type casting is automatically converts casting.\n",
        "        Explicit type casting is maually converts casting.\n",
        "11.  What is the purpose of conditional statements in Python?\n",
        "      - Conditional statements allow to program to make decision and execute different blocks of codes on certain condition.\n",
        "12.  How does the elif statement work?\n",
        "      - Elif statement is used when we want check multiple codtitoin one after\n",
        "        the other.\n",
        "13.  What is the difference between for and while loops?\n",
        "      - For loops is known as number of steps.\n",
        "        While loop is known as condition.\n",
        "14.  Describe a scenario where a while loop is more suitable than a for\n",
        "     loop.                     \n",
        "      - \"while\" loop better when you don't know how many times the loop should\n",
        "         run, and instesd you want to keep looping until a condition become flase."
      ],
      "metadata": {
        "id": "Usqw8Hcifkb9"
      }
    },
    {
      "cell_type": "markdown",
      "source": [],
      "metadata": {
        "id": "K7po9sB4hSC4"
      }
    },
    {
      "cell_type": "code",
      "source": [
        "# Write a Python program to print \"Hello, World!\".\n",
        "print(\"Hello,World\")\n",
        "# Write a Python program that displays your name and age.\n",
        "print(\"my name is ankit\")\n",
        "print(\"i am\", 25, \"years old\")\n",
        "# Write code to print all the pre-defined keywords in Python using the keyword library.\n",
        "import keyword\n",
        "print(keyword.kwlist)\n",
        "print(\"--------\")"
      ],
      "metadata": {
        "colab": {
          "base_uri": "https://localhost:8080/"
        },
        "id": "fFvl0MsFvOOj",
        "outputId": "4bf976ce-99e8-4c16-93fa-7bb35521ea05"
      },
      "execution_count": 15,
      "outputs": [
        {
          "output_type": "stream",
          "name": "stdout",
          "text": [
            "Hello,World\n",
            "my name is ankit\n",
            "i am 25 years old\n",
            "['False', 'None', 'True', 'and', 'as', 'assert', 'async', 'await', 'break', 'class', 'continue', 'def', 'del', 'elif', 'else', 'except', 'finally', 'for', 'from', 'global', 'if', 'import', 'in', 'is', 'lambda', 'nonlocal', 'not', 'or', 'pass', 'raise', 'return', 'try', 'while', 'with', 'yield']\n",
            "--------\n"
          ]
        }
      ]
    },
    {
      "cell_type": "code",
      "source": [
        "#Write a program that checks if a given word is a Python keyword.\n",
        "word=input(\"enter a word;\")\n",
        "print(f\"'{word}is a python keyword\")"
      ],
      "metadata": {
        "colab": {
          "base_uri": "https://localhost:8080/"
        },
        "id": "ACLJdSe-2md9",
        "outputId": "d8bdb39d-c2e3-4e21-b0ec-62501823806d"
      },
      "execution_count": 23,
      "outputs": [
        {
          "output_type": "stream",
          "name": "stdout",
          "text": [
            "enter a word;word\n",
            "'wordis a python keyword\n"
          ]
        }
      ]
    },
    {
      "cell_type": "code",
      "source": [
        "#Create a list and tuple in Python, and demonstrate how attempting to change an element works differently for each.\n",
        "my_list={10,20,30}\n",
        "print(\"Original list\",my_list)\n",
        "my_list[1]= 99\n",
        "print(\"Modified list;\",my_list)"
      ],
      "metadata": {
        "colab": {
          "base_uri": "https://localhost:8080/",
          "height": 222
        },
        "id": "m1xAsqNu5924",
        "outputId": "b833d771-e9c6-4251-8fb5-711eefd418ae"
      },
      "execution_count": 39,
      "outputs": [
        {
          "output_type": "stream",
          "name": "stdout",
          "text": [
            "Original list {10, 20, 30}\n"
          ]
        },
        {
          "output_type": "error",
          "ename": "TypeError",
          "evalue": "'set' object does not support item assignment",
          "traceback": [
            "\u001b[0;31m---------------------------------------------------------------------------\u001b[0m",
            "\u001b[0;31mTypeError\u001b[0m                                 Traceback (most recent call last)",
            "\u001b[0;32m/tmp/ipython-input-39-366115570.py\u001b[0m in \u001b[0;36m<cell line: 0>\u001b[0;34m()\u001b[0m\n\u001b[1;32m      2\u001b[0m \u001b[0mmy_list\u001b[0m\u001b[0;34m=\u001b[0m\u001b[0;34m{\u001b[0m\u001b[0;36m10\u001b[0m\u001b[0;34m,\u001b[0m\u001b[0;36m20\u001b[0m\u001b[0;34m,\u001b[0m\u001b[0;36m30\u001b[0m\u001b[0;34m}\u001b[0m\u001b[0;34m\u001b[0m\u001b[0;34m\u001b[0m\u001b[0m\n\u001b[1;32m      3\u001b[0m \u001b[0mprint\u001b[0m\u001b[0;34m(\u001b[0m\u001b[0;34m\"Original list\"\u001b[0m\u001b[0;34m,\u001b[0m\u001b[0mmy_list\u001b[0m\u001b[0;34m)\u001b[0m\u001b[0;34m\u001b[0m\u001b[0;34m\u001b[0m\u001b[0m\n\u001b[0;32m----> 4\u001b[0;31m \u001b[0mmy_list\u001b[0m\u001b[0;34m[\u001b[0m\u001b[0;36m1\u001b[0m\u001b[0;34m]\u001b[0m\u001b[0;34m=\u001b[0m \u001b[0;36m99\u001b[0m\u001b[0;34m\u001b[0m\u001b[0;34m\u001b[0m\u001b[0m\n\u001b[0m\u001b[1;32m      5\u001b[0m \u001b[0mprint\u001b[0m\u001b[0;34m(\u001b[0m\u001b[0;34m\"Modified list;\"\u001b[0m\u001b[0;34m,\u001b[0m\u001b[0mmy_list\u001b[0m\u001b[0;34m)\u001b[0m\u001b[0;34m\u001b[0m\u001b[0;34m\u001b[0m\u001b[0m\n",
            "\u001b[0;31mTypeError\u001b[0m: 'set' object does not support item assignment"
          ]
        }
      ]
    },
    {
      "cell_type": "code",
      "source": [
        "# Write a function to demonstrate the behavior of mutable and immutable arguments.\n",
        "def demonstrate_mutability(num, text, items):\n",
        "  # Inside the function\n",
        "  num += 10  # Modifying immutable int\n",
        "  text += \" world\" # Modifying immutable string\n",
        "  items.append(99) # Modifying mutable list\n",
        "  print(\"Inside function:\")\n",
        "  print(\"num =\", num)\n",
        "  print(\"text =\", text)\n",
        "  print(\"items =\", items)\n",
        "\n",
        "# Outside the function\n",
        "x = 5\n",
        "s = \"Hello\"\n",
        "lst = [1, 2, 3]\n",
        "\n",
        "print(\"Outside function (before call):\")\n",
        "print(\"x =\", x)\n",
        "print(\"s =\", s)\n",
        "print(\"lst =\", lst)\n",
        "\n",
        "demonstrate_mutability(x, s, lst)\n",
        "\n",
        "print(\"Outside function (after call):\")\n",
        "print(\"x =\", x)\n",
        "print(\"s =\", s)\n",
        "print(\"lst =\", lst)"
      ],
      "metadata": {
        "colab": {
          "base_uri": "https://localhost:8080/"
        },
        "id": "u2R2QQhz_0hU",
        "outputId": "846a5d89-94e1-47c8-e154-2df18f2b7349"
      },
      "execution_count": 42,
      "outputs": [
        {
          "output_type": "stream",
          "name": "stdout",
          "text": [
            "Outside function (before call):\n",
            "x = 5\n",
            "s = Hello\n",
            "lst = [1, 2, 3]\n",
            "Inside function:\n",
            "num = 15\n",
            "text = Hello world\n",
            "items = [1, 2, 3, 99]\n",
            "Outside function (after call):\n",
            "x = 5\n",
            "s = Hello\n",
            "lst = [1, 2, 3, 99]\n"
          ]
        }
      ]
    },
    {
      "cell_type": "code",
      "source": [
        "#Write a program that performs basic arithmetic operations on two user-input numbers.\n",
        "num1 = float(input(\"enter the frist number:\"))\n",
        "num2 = float(input(\"enter the second number:\"))\n",
        "\n",
        "addition = num1 + num2\n",
        "subtraction = num1 - num2\n",
        "multiplication = num1 * num2\n",
        "\n",
        "if num2 != 0:\n",
        "   division = num1 / num2\n",
        "else:\n",
        "   division = \"undefined (cannot divide by zero)\"\n",
        "\n",
        "print(\"\\nResults:\")\n",
        "print(f\"{num1} + {num2} = {addition}\")\n",
        "print(f\"{num1} - {num2} = {subtraction}\")\n",
        "print(f\"{num1} * {num2} = {multiplication}\")\n",
        "print(f\"{num1} / {num2} = {division}\")"
      ],
      "metadata": {
        "colab": {
          "base_uri": "https://localhost:8080/"
        },
        "id": "16jWkhdqELXz",
        "outputId": "2f64623e-2cf8-4a3a-a3ec-a627691efe5d"
      },
      "execution_count": 46,
      "outputs": [
        {
          "output_type": "stream",
          "name": "stdout",
          "text": [
            "enter the frist number:10\n",
            "enter the second number:5\n",
            "\n",
            "Results:\n",
            "10.0 + 5.0 = 15.0\n",
            "10.0 - 5.0 = 5.0\n",
            "10.0 * 5.0 = 50.0\n",
            "10.0 / 5.0 = 2.0\n"
          ]
        }
      ]
    },
    {
      "cell_type": "code",
      "source": [
        "#Write a program to demonstrate the use of logical operators.\n",
        "a = int(input(\"enter first number: \"))\n",
        "b = int(input(\"enter second number: \"))\n",
        "\n",
        "if a > 0 and b > 0:\n",
        "  print(\"Both numbers are positive.\")\n",
        "elif a % 2 == 0 or b % 2 == 0:\n",
        "  print(\"At least one number is even.\")\n",
        "else:\n",
        "  if not (a == b):\n",
        "    print(\"The numbers are not equal.\")\n",
        "  else:\n",
        "    print(\"The numbers are equal.\")"
      ],
      "metadata": {
        "colab": {
          "base_uri": "https://localhost:8080/"
        },
        "id": "hgedLGROIt2C",
        "outputId": "346b0050-1797-40d3-a9c0-6954e54fa44f"
      },
      "execution_count": 48,
      "outputs": [
        {
          "output_type": "stream",
          "name": "stdout",
          "text": [
            "enter first number: 4\n",
            "enter second number: -3\n",
            "At least one number is even.\n"
          ]
        }
      ]
    },
    {
      "cell_type": "code",
      "source": [
        "#Write a Python program to convert user input from string to integer, float, and boolean types.\n",
        "user_input = input(\"enter a value:\")\n",
        "\n",
        "# Convert to integer\n",
        "try:\n",
        "  int_value = int(user_input)\n",
        "  print(f\"Integer value: {int_value}\")\n",
        "except ValueError:\n",
        "  print(f\"Cannot convert '{user_input}' to integer.\")\n",
        "\n",
        "# Convert to float\n",
        "try:\n",
        "  float_value = float(user_input)\n",
        "  print(f\"Float value: {float_value}\")\n",
        "except ValueError:\n",
        "  print(f\"Cannot convert '{user_input}' to float.\")\n",
        "\n",
        "# Convert to boolean (simple check for 'True' or 'False' string, or non-empty string)\n",
        "bool_value = bool(user_input)\n",
        "print(f\"Boolean value: {bool_value}\")\n",
        "\n",
        "# A more specific boolean conversion\n",
        "if user_input.lower() == 'true':\n",
        "    bool_specific = True\n",
        "    print(f\"Specific Boolean value ('True' string): {bool_specific}\")\n",
        "elif user_input.lower() == 'false':\n",
        "    bool_specific = False\n",
        "    print(f\"Specific Boolean value ('False' string): {bool_specific}\")\n",
        "else:\n",
        "    print(f\"Specific Boolean value (based on non-empty string): {bool_value}\")"
      ],
      "metadata": {
        "colab": {
          "base_uri": "https://localhost:8080/"
        },
        "id": "7QdQK_UlLxuG",
        "outputId": "5b901de4-834c-494d-e979-c595e4466d04"
      },
      "execution_count": 50,
      "outputs": [
        {
          "output_type": "stream",
          "name": "stdout",
          "text": [
            "enter a value:0\n",
            "Integer value: 0\n",
            "Float value: 0.0\n",
            "Boolean value: True\n",
            "Specific Boolean value (based on non-empty string): True\n"
          ]
        }
      ]
    },
    {
      "cell_type": "code",
      "source": [
        "#Write code to demonstrate type casting with list elements.\n",
        "str_list ={'10','20','30','40',}\n",
        "print(\"oringinal list(strings);\",str_list)\n",
        "int_list = [int(item)for item in str_list]\n",
        "print(\"list after converting to floats;\",str_list)\n",
        "float_list = [float(item)for item in str_list]\n",
        "print(\"list after converting to floats;\",float_list)\n",
        "bool_list = [bool (item)for item in str_list]\n",
        "print(\"list after converting to booleans;\",bool_list)"
      ],
      "metadata": {
        "colab": {
          "base_uri": "https://localhost:8080/"
        },
        "id": "4_OtIdIZOKtJ",
        "outputId": "c7b883c8-370f-48d3-9cc4-b6f3f4de878b"
      },
      "execution_count": 52,
      "outputs": [
        {
          "output_type": "stream",
          "name": "stdout",
          "text": [
            "oringinal list(strings); {'20', '30', '40', '10'}\n",
            "list after converting to floats; {'20', '30', '40', '10'}\n",
            "list after converting to floats; [20.0, 30.0, 40.0, 10.0]\n",
            "list after converting to booleans; [True, True, True, True]\n"
          ]
        }
      ]
    },
    {
      "cell_type": "code",
      "source": [
        "#Write a program that checks if a number is positive, negative, or zero.\n",
        "if num > 0:\n",
        "  print(\"7\")\n",
        "elif num < 0:\n",
        "  print(\"-2.5\")\n",
        "else:\n",
        "  print(\"0\")"
      ],
      "metadata": {
        "colab": {
          "base_uri": "https://localhost:8080/"
        },
        "id": "1iJYKkqgQllv",
        "outputId": "c2139e80-5d2d-493b-bc30-b592a3bbd7f4"
      },
      "execution_count": 58,
      "outputs": [
        {
          "output_type": "stream",
          "name": "stdout",
          "text": [
            "7\n"
          ]
        }
      ]
    },
    {
      "cell_type": "code",
      "source": [
        "#Write a for loop to print numbers from 1 to 10.\n",
        "for i in range(1,11):\n",
        " print(i)"
      ],
      "metadata": {
        "colab": {
          "base_uri": "https://localhost:8080/"
        },
        "id": "AflSM_pwSg6M",
        "outputId": "88b80ebd-3f8c-4ac3-a0c8-4ee5b2f97b10"
      },
      "execution_count": 61,
      "outputs": [
        {
          "output_type": "stream",
          "name": "stdout",
          "text": [
            "1\n",
            "2\n",
            "3\n",
            "4\n",
            "5\n",
            "6\n",
            "7\n",
            "8\n",
            "9\n",
            "10\n"
          ]
        }
      ]
    },
    {
      "cell_type": "code",
      "source": [
        "#Write a Python program to find the sum of all even numbers between 1 and 50.\n",
        "even_sum = 0\n",
        "for num in range(1,51):\n",
        "  if num % 2 == 0:\n",
        "    even_sum += num\n",
        "print(\"Sum of all even numbers from 1 to 50 is \",even_sum)"
      ],
      "metadata": {
        "colab": {
          "base_uri": "https://localhost:8080/"
        },
        "id": "O9we37jWTX47",
        "outputId": "71022100-83e5-495e-811c-bd4a33cd5a2a"
      },
      "execution_count": 63,
      "outputs": [
        {
          "output_type": "stream",
          "name": "stdout",
          "text": [
            "Sum of all even numbers from 1 to 50 is  650\n"
          ]
        }
      ]
    },
    {
      "cell_type": "code",
      "source": [
        "#Write a program to reverse a string using a while loop.\n",
        "original_string = input(\"Enter a string: \")\n",
        "reversed_string = \"\"\n",
        "index = len(original_string) - 1\n",
        "while index >= 0:\n",
        "  reversed_string += original_string[index]\n",
        "  index -= 1 # Decrement the index\n",
        "print(\"Reversed string:\", reversed_string)"
      ],
      "metadata": {
        "colab": {
          "base_uri": "https://localhost:8080/"
        },
        "id": "zC5z3SPQUUMB",
        "outputId": "814e7b20-8274-44bf-db02-030707148551"
      },
      "execution_count": 65,
      "outputs": [
        {
          "output_type": "stream",
          "name": "stdout",
          "text": [
            "Enter a string: python\n",
            "Reversed string: nohtyp\n"
          ]
        }
      ]
    },
    {
      "cell_type": "code",
      "source": [
        "#Write a Python program to calculate the factorial of a number provided by the user using a while loop.\n",
        "num = int(input(\"enter a number to find its factorial:\"))\n",
        "if num < 0:\n",
        " print(\"Factorial is not defined for negative numbers.\")\n",
        "elif num == 0:\n",
        " print(\"The factorial of 0 is 1\")\n",
        "else:\n",
        "  factorial = 1\n",
        "  i = 1\n",
        "  while i <= num:\n",
        "    factorial *= i\n",
        "    i += 1\n",
        "  print(f\"The factorial of {num} is {factorial}\")"
      ],
      "metadata": {
        "colab": {
          "base_uri": "https://localhost:8080/"
        },
        "id": "oI0a7IXrVjPC",
        "outputId": "5e9ea11b-449a-47be-a737-e19cac7f2e7b"
      },
      "execution_count": 67,
      "outputs": [
        {
          "output_type": "stream",
          "name": "stdout",
          "text": [
            "enter a number to find its factorial:5\n",
            "The factorial of 5 is 120\n"
          ]
        }
      ]
    }
  ]
}